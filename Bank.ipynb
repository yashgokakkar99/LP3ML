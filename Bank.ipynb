{
 "cells": [
  {
   "cell_type": "code",
   "execution_count": 1,
   "id": "40f565e2",
   "metadata": {},
   "outputs": [],
   "source": [
    "import numpy as np\n",
    "import pandas as pd\n",
    "import matplotlib.pyplot as plt"
   ]
  },
  {
   "cell_type": "code",
   "execution_count": 2,
   "id": "713e08ca",
   "metadata": {},
   "outputs": [],
   "source": [
    "df = pd.read_csv('Churn_Modelling.csv')"
   ]
  },
  {
   "cell_type": "code",
   "execution_count": 3,
   "id": "30b42221",
   "metadata": {},
   "outputs": [
    {
     "data": {
      "text/plain": [
       "Index(['RowNumber', 'CustomerId', 'Surname', 'CreditScore', 'Geography',\n",
       "       'Gender', 'Age', 'Tenure', 'Balance', 'NumOfProducts', 'HasCrCard',\n",
       "       'IsActiveMember', 'EstimatedSalary', 'Exited'],\n",
       "      dtype='object')"
      ]
     },
     "execution_count": 3,
     "metadata": {},
     "output_type": "execute_result"
    }
   ],
   "source": [
    "df.columns"
   ]
  },
  {
   "cell_type": "code",
   "execution_count": 4,
   "id": "27495931",
   "metadata": {},
   "outputs": [],
   "source": [
    "drop_cols=['RowNumber','Surname','CustomerId']\n",
    "df = df.drop(drop_cols,axis=1)"
   ]
  },
  {
   "cell_type": "code",
   "execution_count": 5,
   "id": "423671ea",
   "metadata": {},
   "outputs": [
    {
     "data": {
      "text/plain": [
       "(array([[  95.,  232.,  201.,  213.,  203.,  209.,  196.,  177.,  197.,\n",
       "          314.],\n",
       "        [ 318.,  803.,  847.,  796.,  786.,  803.,  771.,  851.,  828.,\n",
       "         1160.]]),\n",
       " array([ 0.,  1.,  2.,  3.,  4.,  5.,  6.,  7.,  8.,  9., 10.]),\n",
       " <a list of 2 BarContainer objects>)"
      ]
     },
     "execution_count": 5,
     "metadata": {},
     "output_type": "execute_result"
    },
    {
     "data": {
      "image/png": "[encoded data removed]",
      "text/plain": [
       "<Figure size 640x480 with 1 Axes>"
      ]
     },
     "metadata": {},
     "output_type": "display_data"
    }
   ],
   "source": [
    "exited = df[df['Exited']==1]['Tenure']\n",
    "not_exited = df[df['Exited']==0]['Tenure']\n",
    "plt.hist([exited,not_exited],color=['red','green'])"
   ]
  },
  {
   "cell_type": "code",
   "execution_count": 6,
   "id": "6c46ef82",
   "metadata": {},
   "outputs": [
    {
     "data": {
      "text/plain": [
       "(array([[4.600e+01, 1.670e+02, 4.730e+02, 5.620e+02, 4.470e+02, 2.690e+02,\n",
       "         5.800e+01, 1.400e+01, 1.000e+00, 0.000e+00],\n",
       "        [5.650e+02, 2.012e+03, 3.156e+03, 1.309e+03, 3.810e+02, 2.540e+02,\n",
       "         1.500e+02, 1.130e+02, 1.900e+01, 4.000e+00]]),\n",
       " array([18. , 25.4, 32.8, 40.2, 47.6, 55. , 62.4, 69.8, 77.2, 84.6, 92. ]),\n",
       " <a list of 2 BarContainer objects>)"
      ]
     },
     "execution_count": 6,
     "metadata": {},
     "output_type": "execute_result"
    },
    {
     "data": {
      "image/png": "[encoded data removed]",
      "text/plain": [
       "<Figure size 640x480 with 1 Axes>"
      ]
     },
     "metadata": {},
     "output_type": "display_data"
    }
   ],
   "source": [
    "exited = df[df['Exited']==1]['Age']\n",
    "not_exited = df[df['Exited']==0]['Age']\n",
    "plt.hist([exited,not_exited],color=['red','green'])"
   ]
  },
  {
   "cell_type": "code",
   "execution_count": 8,
   "id": "f7f2b682",
   "metadata": {},
   "outputs": [],
   "source": [
    "Geography = pd.get_dummies(df['Geography'],drop_first=True)\n",
    "Gender = pd.get_dummies(df['Gender'],drop_first=True)\n",
    "df = pd.concat([df,Geography,Gender],axis=1)"
   ]
  },
  {
   "cell_type": "code",
   "execution_count": 9,
   "id": "a59c2c82",
   "metadata": {},
   "outputs": [
    {
     "data": {
      "text/plain": [
       "Index(['CreditScore', 'Geography', 'Gender', 'Age', 'Tenure', 'Balance',\n",
       "       'NumOfProducts', 'HasCrCard', 'IsActiveMember', 'EstimatedSalary',\n",
       "       'Exited', 'France', 'Germany', 'Spain', 'Female', 'Male', 'Germany',\n",
       "       'Spain', 'Male'],\n",
       "      dtype='object')"
      ]
     },
     "execution_count": 9,
     "metadata": {},
     "output_type": "execute_result"
    }
   ],
   "source": [
    "df.columns"
   ]
  },
  {
   "cell_type": "code",
   "execution_count": 18,
   "id": "0c2175fb",
   "metadata": {},
   "outputs": [],
   "source": [
    "x = df[['CreditScore', 'Age', 'Tenure', 'Balance',\n",
    "       'NumOfProducts', 'HasCrCard', 'IsActiveMember', 'EstimatedSalary','Male','Germany','Spain']]\n",
    "y = df['Exited']\n",
    "\n",
    "from sklearn.model_selection import train_test_split\n",
    "x_train,x_test,y_train,y_test = train_test_split(x,y,test_size=0.3,random_state=42)"
   ]
  },
  {
   "cell_type": "code",
   "execution_count": 19,
   "id": "bcec22f9",
   "metadata": {},
   "outputs": [],
   "source": [
    "from sklearn.preprocessing import StandardScaler\n",
    "sc = StandardScaler()\n",
    "x_train = sc.fit_transform(x_train)\n",
    "x_test = sc.fit_transform(x_test)"
   ]
  },
  {
   "cell_type": "code",
   "execution_count": 29,
   "id": "dac20b05",
   "metadata": {},
   "outputs": [
    {
     "name": "stdout",
     "output_type": "stream",
     "text": [
      "Model: \"sequential_2\"\n",
      "_________________________________________________________________\n",
      " Layer (type)                Output Shape              Param #   \n",
      "=================================================================\n",
      " dense_6 (Dense)             (None, 64)                960       \n",
      "                                                                 \n",
      " dense_7 (Dense)             (None, 32)                2080      \n",
      "                                                                 \n",
      " dense_8 (Dense)             (None, 1)                 33        \n",
      "                                                                 \n",
      "=================================================================\n",
      "Total params: 3073 (12.00 KB)\n",
      "Trainable params: 3073 (12.00 KB)\n",
      "Non-trainable params: 0 (0.00 Byte)\n",
      "_________________________________________________________________\n"
     ]
    }
   ],
   "source": [
    "import keras \n",
    "from keras.models import Sequential\n",
    "from keras.layers import Dense\n",
    "Classifier = Sequential()\n",
    "Classifier.add(Dense(units=64,input_dim=x_train.shape[1],activation='relu'))\n",
    "Classifier.add(Dense(units=32,activation='relu'))\n",
    "Classifier.add(Dense(units=1,activation='sigmoid'))\n",
    "Classifier.compile(optimizer='adam', loss='binary_crossentropy', metrics=['accuracy'])\n",
    "Classifier.summary()"
   ]
  },
  {
   "cell_type": "code",
   "execution_count": 30,
   "id": "b7b5d500",
   "metadata": {},
   "outputs": [
    {
     "name": "stdout",
     "output_type": "stream",
     "text": [
      "Epoch 1/50\n",
      "219/219 [==============================] - 1s 2ms/step - loss: 0.4559 - accuracy: 0.8019\n",
      "Epoch 2/50\n",
      "219/219 [==============================] - 1s 3ms/step - loss: 0.3937 - accuracy: 0.8340\n",
      "Epoch 3/50\n",
      "219/219 [==============================] - 1s 2ms/step - loss: 0.3627 - accuracy: 0.8504\n",
      "Epoch 4/50\n",
      "219/219 [==============================] - 1s 3ms/step - loss: 0.3486 - accuracy: 0.8553\n",
      "Epoch 5/50\n",
      "219/219 [==============================] - 1s 3ms/step - loss: 0.3416 - accuracy: 0.8577\n",
      "Epoch 6/50\n",
      "219/219 [==============================] - 1s 3ms/step - loss: 0.3384 - accuracy: 0.8591\n",
      "Epoch 7/50\n",
      "219/219 [==============================] - 1s 3ms/step - loss: 0.3358 - accuracy: 0.8601\n",
      "Epoch 8/50\n",
      "219/219 [==============================] - 1s 3ms/step - loss: 0.3317 - accuracy: 0.8619\n",
      "Epoch 9/50\n",
      "219/219 [==============================] - 1s 3ms/step - loss: 0.3289 - accuracy: 0.8600\n",
      "Epoch 10/50\n",
      "219/219 [==============================] - 1s 3ms/step - loss: 0.3265 - accuracy: 0.8639\n",
      "Epoch 11/50\n",
      "219/219 [==============================] - 1s 3ms/step - loss: 0.3255 - accuracy: 0.8620\n",
      "Epoch 12/50\n",
      "219/219 [==============================] - 1s 3ms/step - loss: 0.3226 - accuracy: 0.8663\n",
      "Epoch 13/50\n",
      "219/219 [==============================] - 1s 3ms/step - loss: 0.3219 - accuracy: 0.8667\n",
      "Epoch 14/50\n",
      "219/219 [==============================] - 1s 3ms/step - loss: 0.3221 - accuracy: 0.8636\n",
      "Epoch 15/50\n",
      "219/219 [==============================] - 1s 3ms/step - loss: 0.3174 - accuracy: 0.8629\n",
      "Epoch 16/50\n",
      "219/219 [==============================] - 1s 3ms/step - loss: 0.3162 - accuracy: 0.8641\n",
      "Epoch 17/50\n",
      "219/219 [==============================] - 1s 3ms/step - loss: 0.3161 - accuracy: 0.8690\n",
      "Epoch 18/50\n",
      "219/219 [==============================] - 1s 3ms/step - loss: 0.3135 - accuracy: 0.8669\n",
      "Epoch 19/50\n",
      "219/219 [==============================] - 1s 3ms/step - loss: 0.3140 - accuracy: 0.8684\n",
      "Epoch 20/50\n",
      "219/219 [==============================] - 1s 3ms/step - loss: 0.3118 - accuracy: 0.8674\n",
      "Epoch 21/50\n",
      "219/219 [==============================] - 1s 3ms/step - loss: 0.3099 - accuracy: 0.8681\n",
      "Epoch 22/50\n",
      "219/219 [==============================] - 1s 3ms/step - loss: 0.3084 - accuracy: 0.8706\n",
      "Epoch 23/50\n",
      "219/219 [==============================] - 1s 3ms/step - loss: 0.3077 - accuracy: 0.8716\n",
      "Epoch 24/50\n",
      "219/219 [==============================] - 1s 3ms/step - loss: 0.3061 - accuracy: 0.8699\n",
      "Epoch 25/50\n",
      "219/219 [==============================] - 1s 3ms/step - loss: 0.3056 - accuracy: 0.8696\n",
      "Epoch 26/50\n",
      "219/219 [==============================] - 1s 3ms/step - loss: 0.3049 - accuracy: 0.8720\n",
      "Epoch 27/50\n",
      "219/219 [==============================] - 1s 3ms/step - loss: 0.3020 - accuracy: 0.8733\n",
      "Epoch 28/50\n",
      "219/219 [==============================] - 1s 3ms/step - loss: 0.3017 - accuracy: 0.8707\n",
      "Epoch 29/50\n",
      "219/219 [==============================] - 1s 3ms/step - loss: 0.3005 - accuracy: 0.8733\n",
      "Epoch 30/50\n",
      "219/219 [==============================] - 1s 3ms/step - loss: 0.2999 - accuracy: 0.8703\n",
      "Epoch 31/50\n",
      "219/219 [==============================] - 1s 3ms/step - loss: 0.2978 - accuracy: 0.8724\n",
      "Epoch 32/50\n",
      "219/219 [==============================] - 1s 3ms/step - loss: 0.2978 - accuracy: 0.8753\n",
      "Epoch 33/50\n",
      "219/219 [==============================] - 1s 3ms/step - loss: 0.2951 - accuracy: 0.8759\n",
      "Epoch 34/50\n",
      "219/219 [==============================] - 1s 3ms/step - loss: 0.2938 - accuracy: 0.8767\n",
      "Epoch 35/50\n",
      "219/219 [==============================] - 1s 3ms/step - loss: 0.2933 - accuracy: 0.8771\n",
      "Epoch 36/50\n",
      "219/219 [==============================] - 1s 3ms/step - loss: 0.2912 - accuracy: 0.8739\n",
      "Epoch 37/50\n",
      "219/219 [==============================] - 1s 2ms/step - loss: 0.2928 - accuracy: 0.8766\n",
      "Epoch 38/50\n",
      "219/219 [==============================] - 1s 3ms/step - loss: 0.2904 - accuracy: 0.8770\n",
      "Epoch 39/50\n",
      "219/219 [==============================] - 1s 3ms/step - loss: 0.2885 - accuracy: 0.8763\n",
      "Epoch 40/50\n",
      "219/219 [==============================] - 1s 3ms/step - loss: 0.2868 - accuracy: 0.8799\n",
      "Epoch 41/50\n",
      "219/219 [==============================] - 1s 3ms/step - loss: 0.2868 - accuracy: 0.8791\n",
      "Epoch 42/50\n",
      "219/219 [==============================] - 1s 3ms/step - loss: 0.2864 - accuracy: 0.8799\n",
      "Epoch 43/50\n",
      "219/219 [==============================] - 1s 3ms/step - loss: 0.2839 - accuracy: 0.8806\n",
      "Epoch 44/50\n",
      "219/219 [==============================] - 1s 3ms/step - loss: 0.2830 - accuracy: 0.8786\n",
      "Epoch 45/50\n",
      "219/219 [==============================] - 1s 3ms/step - loss: 0.2828 - accuracy: 0.8801\n",
      "Epoch 46/50\n",
      "219/219 [==============================] - 1s 3ms/step - loss: 0.2808 - accuracy: 0.8821\n",
      "Epoch 47/50\n",
      "219/219 [==============================] - 1s 3ms/step - loss: 0.2789 - accuracy: 0.8819\n",
      "Epoch 48/50\n",
      "219/219 [==============================] - 1s 3ms/step - loss: 0.2809 - accuracy: 0.8783\n",
      "Epoch 49/50\n",
      "219/219 [==============================] - 1s 3ms/step - loss: 0.2781 - accuracy: 0.8814\n",
      "Epoch 50/50\n",
      "219/219 [==============================] - 1s 3ms/step - loss: 0.2766 - accuracy: 0.8849\n"
     ]
    },
    {
     "data": {
      "text/plain": [
       "<keras.src.callbacks.History at 0x2824ae8cb50>"
      ]
     },
     "execution_count": 30,
     "metadata": {},
     "output_type": "execute_result"
    }
   ],
   "source": [
    "Classifier.fit(x_train,y_train,epochs=50,batch_size=32) "
   ]
  },
  {
   "cell_type": "code",
   "execution_count": 31,
   "id": "0adcc85f",
   "metadata": {},
   "outputs": [
    {
     "name": "stdout",
     "output_type": "stream",
     "text": [
      "94/94 [==============================] - 0s 2ms/step\n"
     ]
    }
   ],
   "source": [
    "y_pred = Classifier.predict(x_test)"
   ]
  },
  {
   "cell_type": "code",
   "execution_count": 32,
   "id": "616cc726",
   "metadata": {},
   "outputs": [],
   "source": [
    "y_pred = (y_pred>0.5)"
   ]
  },
  {
   "cell_type": "code",
   "execution_count": 33,
   "id": "4268f768",
   "metadata": {},
   "outputs": [
    {
     "name": "stdout",
     "output_type": "stream",
     "text": [
      "0.8573333333333333\n",
      "[[2267  149]\n",
      " [ 279  305]]\n",
      "              precision    recall  f1-score   support\n",
      "\n",
      "           0       0.89      0.94      0.91      2416\n",
      "           1       0.67      0.52      0.59       584\n",
      "\n",
      "    accuracy                           0.86      3000\n",
      "   macro avg       0.78      0.73      0.75      3000\n",
      "weighted avg       0.85      0.86      0.85      3000\n",
      "\n"
     ]
    }
   ],
   "source": [
    "from sklearn.metrics import confusion_matrix,accuracy_score,classification_report\n",
    "print(accuracy_score(y_test,y_pred))\n",
    "print(confusion_matrix(y_test,y_pred))\n",
    "print(classification_report(y_test,y_pred))"
   ]
  },
  {
   "cell_type": "code",
   "execution_count": null,
   "id": "862b7d87",
   "metadata": {},
   "outputs": [],
   "source": []
  }
 ],
 "metadata": {
  "kernelspec": {
   "display_name": "Python 3 (ipykernel)",
   "language": "python",
   "name": "python3"
  },
  "language_info": {
   "codemirror_mode": {
    "name": "ipython",
    "version": 3
   },
   "file_extension": ".py",
   "mimetype": "text/x-python",
   "name": "python",
   "nbconvert_exporter": "python",
   "pygments_lexer": "ipython3",
   "version": "3.11.3"
  }
 },
 "nbformat": 4,
 "nbformat_minor": 5
}
